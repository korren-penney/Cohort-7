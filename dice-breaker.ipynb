{
 "cells": [
  {
   "cell_type": "code",
   "execution_count": 1,
   "id": "5c815fc9",
   "metadata": {},
   "outputs": [
    {
     "name": "stdout",
     "output_type": "stream",
     "text": [
      "Rolling the die\n",
      "The value is:  5\n",
      "What is your favourite game to play?\n",
      "Rolling the die\n",
      "The value is:  5\n",
      "What is your favourite game to play?\n",
      "this is done\n"
     ]
    }
   ],
   "source": [
    "# The purpose of this program is to use the random module in python to \n",
    "# roll a dice for our icebreaker today.\n",
    "# Korren is going to attempt to do this live, be prepared for typos.\n",
    "\n",
    "import random\n",
    "\n",
    "# declare variables for min and max numbers\n",
    "min = 1\n",
    "max = 6\n",
    "\n",
    "# declare varibles for the while loop\n",
    "roll_again = \"yes\"\n",
    "\n",
    "# create our while loop\n",
    "while roll_again == \"yes\":\n",
    "    print(\"Rolling the die\")\n",
    "    die_value = (random.randint(min,max))\n",
    "    print(\"The value is: \", die_value)\n",
    "    \n",
    "    # create the if/else statement to print our quuestions\n",
    "    if die_value == 1:\n",
    "        print(\"If you were invisible for a day what whould you choose to do?\")\n",
    "    elif die_value == 2:\n",
    "        print(\"If you could choose a unique super power, what would it be?\")\n",
    "    elif die_value ==3:\n",
    "        print(\"What is the grosses food you have ever tried?\")\n",
    "    elif die_value == 4:\n",
    "        print(\"Who is your favourite movie character?\")\n",
    "    elif die_value == 5:\n",
    "        print(\"What is your favourite game to play?\")\n",
    "    else:\n",
    "        print(\"What is one thing you are really good at?\")\n",
    "    \n",
    "    # Check to see if they want to roll again\n",
    "    roll_again = input(\"Roll again? yes/no \")\n",
    "print(\"The program is ending...Thank you for playing. It was fun!\")\n",
    "    \n"
   ]
  },
  {
   "cell_type": "code",
   "execution_count": null,
   "id": "df4fc733",
   "metadata": {},
   "outputs": [],
   "source": []
  }
 ],
 "metadata": {
  "kernelspec": {
   "display_name": "Python 3 (ipykernel)",
   "language": "python",
   "name": "python3"
  },
  "language_info": {
   "codemirror_mode": {
    "name": "ipython",
    "version": 3
   },
   "file_extension": ".py",
   "mimetype": "text/x-python",
   "name": "python",
   "nbconvert_exporter": "python",
   "pygments_lexer": "ipython3",
   "version": "3.11.6"
  }
 },
 "nbformat": 4,
 "nbformat_minor": 5
}
